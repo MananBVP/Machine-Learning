{
 "cells": [
  {
   "cell_type": "code",
   "execution_count": 5,
   "metadata": {},
   "outputs": [],
   "source": [
    "import numpy as np\n",
    "import matplotlib.pyplot as plt\n",
    "from sklearn.datasets import make_blobs"
   ]
  },
  {
   "cell_type": "code",
   "execution_count": 8,
   "metadata": {},
   "outputs": [
    {
     "name": "stdout",
     "output_type": "stream",
     "text": [
      "(500, 2)\n"
     ]
    }
   ],
   "source": [
    "X,_ = make_blobs(n_samples=500,centers=5,random_state=20)\n",
    "print(X.shape)"
   ]
  },
  {
   "cell_type": "code",
   "execution_count": 9,
   "metadata": {},
   "outputs": [
    {
     "data": {
      "image/png": "[encoded data removed]",
      "text/plain": [
       "<Figure size 432x288 with 1 Axes>"
      ]
     },
     "metadata": {
      "needs_background": "light"
     },
     "output_type": "display_data"
    }
   ],
   "source": [
    "plt.scatter(X[:,0],X[:,1])\n",
    "plt.show()"
   ]
  },
  {
   "cell_type": "code",
   "execution_count": 61,
   "metadata": {},
   "outputs": [
    {
     "name": "stdout",
     "output_type": "stream",
     "text": [
      "{0: {'center': array([ -6.54338052, -11.06988547]), 'points': [], 'colors': 'red'}, 1: {'center': array([-16.86496424,  -7.44666693]), 'points': [], 'colors': 'green'}, 2: {'center': array([-10.27906001, -16.77004361]), 'points': [], 'colors': 'blue'}, 3: {'center': array([ -3.49961493, -17.83890838]), 'points': [], 'colors': 'pink'}, 4: {'center': array([ -5.83469881, -10.19950511]), 'points': [], 'colors': 'orange'}}\n"
     ]
    }
   ],
   "source": [
    "k = 5\n",
    "colors =['red','green','blue','pink','orange']\n",
    "\n",
    "#Dictionary\n",
    "clusters = {}\n",
    "\n",
    "#Init Cluster Centers\n",
    "for i in range(k):\n",
    "    center = 10*(2*(np.random.random((2,))-1))\n",
    "    cluster = {\n",
    "        'center' : center,\n",
    "        'points' : [],\n",
    "        'colors' : colors[i]\n",
    "    }\n",
    "    clusters[i] = cluster\n",
    "    \n",
    "print(clusters)"
   ]
  },
  {
   "cell_type": "code",
   "execution_count": 64,
   "metadata": {},
   "outputs": [
    {
     "data": {
      "text/plain": [
       "{0: {'center': array([ -6.54338052, -11.06988547]),\n",
       "  'points': [],\n",
       "  'colors': 'red'},\n",
       " 1: {'center': array([-16.86496424,  -7.44666693]),\n",
       "  'points': [],\n",
       "  'colors': 'green'},\n",
       " 2: {'center': array([-10.27906001, -16.77004361]),\n",
       "  'points': [],\n",
       "  'colors': 'blue'},\n",
       " 3: {'center': array([ -3.49961493, -17.83890838]),\n",
       "  'points': [],\n",
       "  'colors': 'pink'},\n",
       " 4: {'center': array([ -5.83469881, -10.19950511]),\n",
       "  'points': [],\n",
       "  'colors': 'orange'}}"
      ]
     },
     "execution_count": 64,
     "metadata": {},
     "output_type": "execute_result"
    }
   ],
   "source": [
    "clusters"
   ]
  },
  {
   "cell_type": "code",
   "execution_count": 65,
   "metadata": {
    "scrolled": true
   },
   "outputs": [
    {
     "data": {
      "text/plain": [
       "{'center': array([ -6.54338052, -11.06988547]), 'points': [], 'colors': 'red'}"
      ]
     },
     "execution_count": 65,
     "metadata": {},
     "output_type": "execute_result"
    }
   ],
   "source": [
    "clusters[0]"
   ]
  },
  {
   "cell_type": "code",
   "execution_count": 66,
   "metadata": {},
   "outputs": [],
   "source": [
    "def distance(p1,p2):\n",
    "    return np.sqrt(np.sum((p1-p2)**2))"
   ]
  },
  {
   "cell_type": "code",
   "execution_count": 67,
   "metadata": {},
   "outputs": [],
   "source": [
    "# 1. Step - Assign Each Point to One of the cluster based upon \n",
    "\n",
    "def assignPointToCluster(clusters):\n",
    "    m = X.shape[0]\n",
    "    # For every Point\n",
    "    for i in range(m):\n",
    "        current_x = X[i]\n",
    "        dist = []\n",
    "        \n",
    "        #For Every Cluster Center find the one nearest to the point \n",
    "        for j in range(k):\n",
    "            cc = clusters[j]['center']\n",
    "            d = distance(current_x,cc)\n",
    "            dist.append(d)\n",
    "        nearest = np.argmin(dist)\n",
    "        clusters[nearest]['points'].append(current_x)"
   ]
  },
  {
   "cell_type": "code",
   "execution_count": 68,
   "metadata": {},
   "outputs": [],
   "source": [
    "assignPointToCluster(clusters)"
   ]
  },
  {
   "cell_type": "code",
   "execution_count": null,
   "metadata": {},
   "outputs": [],
   "source": [
    "# print(np.array(clusters[0]['points']))"
   ]
  },
  {
   "cell_type": "code",
   "execution_count": 69,
   "metadata": {},
   "outputs": [],
   "source": [
    "# Update Cluster Centers based upon maen of the points assigned to cluster\n",
    "def updateClusterCenters(clusters):\n",
    "    for i in range(k):\n",
    "        pts = np.array(clusters[i]['points'])\n",
    "        if pts.shape[0]>0:\n",
    "            u = pts.mean(axis=0)\n",
    "            clusters[i]['center'] = u\n",
    "            clusters[i]['points'] = []"
   ]
  },
  {
   "cell_type": "code",
   "execution_count": 72,
   "metadata": {},
   "outputs": [],
   "source": [
    "def plotClusters(clusters):\n",
    "    for i in range(k):\n",
    "        #Get all the points assigned\n",
    "        pts = np.array(clusters[i]['points'])\n",
    "        ui = clusters[i]['center']\n",
    "        if pts.shape[0]>0:\n",
    "            clr = clusters[i]['colors']\n",
    "            plt.scatter(pts[:,0],pts[:,1],c=clr)\n",
    "        #Plot cluster center\n",
    "        plt.scatter(ui[0],ui[1],color='black',marker='*')"
   ]
  },
  {
   "cell_type": "code",
   "execution_count": 89,
   "metadata": {},
   "outputs": [
    {
     "data": {
      "image/png": "[encoded data removed]",
      "text/plain": [
       "<Figure size 432x288 with 1 Axes>"
      ]
     },
     "metadata": {
      "needs_background": "light"
     },
     "output_type": "display_data"
    }
   ],
   "source": [
    "# Repeat \n",
    "assignPointToCluster(clusters)\n",
    "plotClusters(clusters)\n",
    "updateClusterCenters(clusters)"
   ]
  },
  {
   "cell_type": "code",
   "execution_count": 33,
   "metadata": {},
   "outputs": [],
   "source": [
    "from sklearn.cluster import KMeans"
   ]
  },
  {
   "cell_type": "code",
   "execution_count": 34,
   "metadata": {},
   "outputs": [],
   "source": [
    "km = KMeans(n_clusters=5)"
   ]
  },
  {
   "cell_type": "code",
   "execution_count": 35,
   "metadata": {},
   "outputs": [
    {
     "data": {
      "text/plain": [
       "KMeans(algorithm='auto', copy_x=True, init='k-means++', max_iter=300,\n",
       "       n_clusters=5, n_init=10, n_jobs=None, precompute_distances='auto',\n",
       "       random_state=None, tol=0.0001, verbose=0)"
      ]
     },
     "execution_count": 35,
     "metadata": {},
     "output_type": "execute_result"
    }
   ],
   "source": [
    "km.fit(X)"
   ]
  },
  {
   "cell_type": "code",
   "execution_count": 37,
   "metadata": {},
   "outputs": [],
   "source": [
    "KMeans?"
   ]
  },
  {
   "cell_type": "code",
   "execution_count": 40,
   "metadata": {},
   "outputs": [],
   "source": [
    "centers = km.cluster_centers_"
   ]
  },
  {
   "cell_type": "code",
   "execution_count": 42,
   "metadata": {},
   "outputs": [
    {
     "data": {
      "text/plain": [
       "<matplotlib.collections.PathCollection at 0x5c66a10>"
      ]
     },
     "execution_count": 42,
     "metadata": {},
     "output_type": "execute_result"
    },
    {
     "data": {
      "image/png": "[encoded data removed]",
      "text/plain": [
       "<Figure size 432x288 with 1 Axes>"
      ]
     },
     "metadata": {
      "needs_background": "light"
     },
     "output_type": "display_data"
    }
   ],
   "source": [
    "plt.scatter(X[:,0],X[:,1])\n",
    "plt.scatter(centers[:,0],centers[:,1])"
   ]
  },
  {
   "cell_type": "markdown",
   "metadata": {},
   "source": [
    "## Color Extraction"
   ]
  },
  {
   "cell_type": "code",
   "execution_count": 60,
   "metadata": {},
   "outputs": [
    {
     "data": {
      "text/plain": [
       "array([[[106, 198, 139],\n",
       "        [102, 194, 135],\n",
       "        [ 97, 189, 130],\n",
       "        ...,\n",
       "        [172, 206, 206],\n",
       "        [171, 205, 205],\n",
       "        [171, 205, 205]],\n",
       "\n",
       "       [[100, 192, 133],\n",
       "        [ 99, 191, 132],\n",
       "        [ 98, 190, 131],\n",
       "        ...,\n",
       "        [172, 206, 206],\n",
       "        [171, 205, 205],\n",
       "        [170, 204, 204]],\n",
       "\n",
       "       [[ 94, 186, 127],\n",
       "        [ 96, 188, 129],\n",
       "        [ 99, 191, 132],\n",
       "        ...,\n",
       "        [173, 207, 207],\n",
       "        [171, 205, 205],\n",
       "        [169, 203, 203]],\n",
       "\n",
       "       ...,\n",
       "\n",
       "       [[ 42,  86,  47],\n",
       "        [ 40,  84,  45],\n",
       "        [ 43,  87,  48],\n",
       "        ...,\n",
       "        [ 63, 134,  91],\n",
       "        [ 61, 132,  89],\n",
       "        [ 59, 130,  87]],\n",
       "\n",
       "       [[ 41,  85,  46],\n",
       "        [ 42,  86,  47],\n",
       "        [ 39,  83,  44],\n",
       "        ...,\n",
       "        [ 62, 133,  90],\n",
       "        [ 60, 131,  88],\n",
       "        [ 58, 129,  86]],\n",
       "\n",
       "       [[ 40,  84,  45],\n",
       "        [ 44,  88,  49],\n",
       "        [ 37,  81,  42],\n",
       "        ...,\n",
       "        [ 62, 133,  90],\n",
       "        [ 59, 130,  87],\n",
       "        [ 57, 128,  85]]], dtype=uint8)"
      ]
     },
     "execution_count": 60,
     "metadata": {},
     "output_type": "execute_result"
    }
   ],
   "source": [
    "import cv2\n",
    "cv2.imread('./tom.jpg')"
   ]
  },
  {
   "cell_type": "code",
   "execution_count": null,
   "metadata": {},
   "outputs": [],
   "source": [
    "  "
   ]
  },
  {
   "cell_type": "code",
   "execution_count": null,
   "metadata": {},
   "outputs": [],
   "source": []
  },
  {
   "cell_type": "code",
   "execution_count": null,
   "metadata": {},
   "outputs": [],
   "source": []
  },
  {
   "cell_type": "code",
   "execution_count": null,
   "metadata": {},
   "outputs": [],
   "source": []
  },
  {
   "cell_type": "code",
   "execution_count": null,
   "metadata": {},
   "outputs": [],
   "source": []
  },
  {
   "cell_type": "code",
   "execution_count": null,
   "metadata": {},
   "outputs": [],
   "source": []
  },
  {
   "cell_type": "code",
   "execution_count": null,
   "metadata": {},
   "outputs": [],
   "source": []
  },
  {
   "cell_type": "code",
   "execution_count": null,
   "metadata": {},
   "outputs": [],
   "source": []
  },
  {
   "cell_type": "code",
   "execution_count": null,
   "metadata": {},
   "outputs": [],
   "source": []
  },
  {
   "cell_type": "code",
   "execution_count": null,
   "metadata": {},
   "outputs": [],
   "source": []
  },
  {
   "cell_type": "code",
   "execution_count": null,
   "metadata": {},
   "outputs": [],
   "source": []
  },
  {
   "cell_type": "code",
   "execution_count": null,
   "metadata": {},
   "outputs": [],
   "source": []
  },
  {
   "cell_type": "code",
   "execution_count": null,
   "metadata": {},
   "outputs": [],
   "source": []
  },
  {
   "cell_type": "code",
   "execution_count": null,
   "metadata": {},
   "outputs": [],
   "source": []
  },
  {
   "cell_type": "code",
   "execution_count": null,
   "metadata": {},
   "outputs": [],
   "source": []
  },
  {
   "cell_type": "code",
   "execution_count": null,
   "metadata": {},
   "outputs": [],
   "source": []
  },
  {
   "cell_type": "code",
   "execution_count": null,
   "metadata": {},
   "outputs": [],
   "source": []
  },
  {
   "cell_type": "code",
   "execution_count": null,
   "metadata": {},
   "outputs": [],
   "source": []
  }
 ],
 "metadata": {
  "kernelspec": {
   "display_name": "Python 3",
   "language": "python",
   "name": "python3"
  },
  "language_info": {
   "codemirror_mode": {
    "name": "ipython",
    "version": 3
   },
   "file_extension": ".py",
   "mimetype": "text/x-python",
   "name": "python",
   "nbconvert_exporter": "python",
   "pygments_lexer": "ipython3",
   "version": "3.7.4"
  }
 },
 "nbformat": 4,
 "nbformat_minor": 2
}
